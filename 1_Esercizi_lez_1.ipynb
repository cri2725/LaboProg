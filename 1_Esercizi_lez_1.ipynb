{
 "cells": [
  {
   "cell_type": "markdown",
   "metadata": {},
   "source": [
    "### **1. Trasformare cicli in list comprehension**\n",
    "\n",
    "Fai tre esempi di cicli producono una lista e poi riscrivi lo stesso codice usando la list comprehension"
   ]
  },
  {
   "cell_type": "code",
   "execution_count": null,
   "metadata": {},
   "outputs": [
    {
     "data": {
      "text/plain": [
       "[0, 2, 4, 6, 8, 10, 12, 14, 16, 18]"
      ]
     },
     "execution_count": 8,
     "metadata": {},
     "output_type": "execute_result"
    }
   ],
   "source": [
    "#es1\n",
    "a=[]\n",
    "for i in range(10):\n",
    "   a.append(i)\n",
    "b=[x for x in range(10)]\n",
    "\n",
    "#es2 \n",
    "lettere=[]\n",
    "parola=\"cammello\"\n",
    "for lettera in parola:\n",
    "    lettere.append(lettera)\n",
    "lettere=[lettera for lettera in parola]\n",
    "\n",
    "#es3\n",
    "pari=[]\n",
    "for n in range(19):\n",
    "    if (n%2==0):\n",
    "        pari.append(n)\n",
    "pari=[n for n in range(19) if (n%2==0)]"
   ]
  },
  {
   "cell_type": "markdown",
   "metadata": {},
   "source": [
    "### **2. Vettore di Numeri Primi**\n",
    "\n",
    "1. **Crea un vettore** contenente tutti i numeri primi compresi tra **0 e 10**  \n",
    "   _(Puoi scriverli direttamente nell'array)._\n",
    "\n",
    "2. **Conta quanti numeri ci sono nel vettore** utilizzando la funzione `len()`.  **Ottieni lo stesso numero** accedendo all'attributo `.size` del vettore.\n",
    "\n",
    "3. Quale pensi sia il tipo di dato (`dtype`) del vettore?  Prova a rispondere senza eseguire il codice e Verifica la tua risposta accedendo all'attributo `.dtype` del vettore\n",
    "\n",
    "4. Scrivi l'array usando una list comprehension che controlla che i numeri siano primi. "
   ]
  },
  {
   "cell_type": "code",
   "execution_count": null,
   "metadata": {},
   "outputs": [
    {
     "data": {
      "text/plain": [
       "[1, 2, 3, 5, 7]"
      ]
     },
     "execution_count": 24,
     "metadata": {},
     "output_type": "execute_result"
    }
   ],
   "source": [
    "import numpy as np\n",
    "#1\n",
    "vet=np.array([1,2,3,5,7]) \n",
    "#2\n",
    "l=len(vet)\n",
    "l=np.size(vet)\n",
    "#3\n",
    "#penso int\n",
    "tipo=vet.dtype\n",
    "#è \n",
    "#4\n",
    "def primo(n):\n",
    "    if n==0:\n",
    "        return False\n",
    "    for i in range(2,n):\n",
    "        if (n%(i))==0:\n",
    "            if n+1 not in (1,n):\n",
    "                return False\n",
    "    return True\n",
    "vettore=[n for n in range(10) if primo(n)==True]"
   ]
  },
  {
   "cell_type": "markdown",
   "metadata": {},
   "source": [
    "### **3.  Operazioni su array**\n",
    "Crea un array **a**, 1D (senza digitarlo esplicitamente), e genera due nuovi array **b**, contenente una sottostringa a piacere e **c** che è il reverse dell'array **a** (esempio [1,2,3] diventa [3,2,1]) .  Dividi l'array **a** per l'array **c**. Fai la stessa cosa per una lista."
   ]
  },
  {
   "cell_type": "code",
   "execution_count": null,
   "metadata": {},
   "outputs": [
    {
     "data": {
      "text/plain": [
       "[0.18181818181818182, 0.625, 1.6, 5.5]"
      ]
     },
     "execution_count": 44,
     "metadata": {},
     "output_type": "execute_result"
    }
   ],
   "source": [
    "a=np.arange(2,13,3)\n",
    "b=a[1:3]\n",
    "c=a[::-1]\n",
    "div=a/c\n",
    "list=[x for x in range(13) if x>1]\n",
    "alist=list[::3]\n",
    "blist=alist[1:3]\n",
    "clist=alist[::-1]\n",
    "div=[]\n",
    "for i,num in enumerate(alist):\n",
    "    div.append(num/clist[i])"
   ]
  }
 ],
 "metadata": {
  "kernelspec": {
   "display_name": "NewEnv",
   "language": "python",
   "name": "python3"
  },
  "language_info": {
   "codemirror_mode": {
    "name": "ipython",
    "version": 3
   },
   "file_extension": ".py",
   "mimetype": "text/x-python",
   "name": "python",
   "nbconvert_exporter": "python",
   "pygments_lexer": "ipython3",
   "version": "3.10.18"
  }
 },
 "nbformat": 4,
 "nbformat_minor": 2
}
